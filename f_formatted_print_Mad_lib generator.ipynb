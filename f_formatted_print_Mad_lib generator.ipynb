{
 "cells": [
  {
   "cell_type": "code",
   "execution_count": 1,
   "metadata": {},
   "outputs": [
    {
     "name": "stdout",
     "output_type": "stream",
     "text": [
      "\n",
      "On Halloween, you get to go trick-or-treating! \n",
      "\n",
      "Everyone will dress up in costumes, like a/an q or a/an w. \n",
      "\n",
      "This year, you decided to dress up as a/an e .\n",
      "\n",
      "Your mom takes you and your best friend trick-or-treating. \n",
      "While you are out, your dad stays at home and t. \n",
      "\n",
      "Other fun things to do on Halloween are y scary movies and u.\n",
      "\n",
      "This year, you get lots of i candy! \n",
      "\n",
      "When you get home, your dad says he wants some, because he works hard as a o and he deserves some of your p. \n",
      " \n",
      "You are 1 but you give it to him anyway. \n",
      " \n",
      "Dads are so 2 but you love him\n",
      " \n"
     ]
    }
   ],
   "source": [
    "#Week1 assignment no3 \n",
    "#mad_libs generator \n",
    "#\"\"\" or ''' at the beginning & end allow for longgg string output like email in many lines.\n",
    "# f formats output to look better & easier to be understood when looking at codes. also easier to write\n",
    "\n",
    "noun1 = input(\"enter your noun1\")\n",
    "noun2 = input(\"enter your noun2\")\n",
    "adjective1 = input(\"enter your adjective1\")\n",
    "noun3 = input(\"enter your noun3\")\n",
    "verb = input(\"enter your verb\")\n",
    "verb_ing1 = input(\"enter your verb ending in 'ing'\")\n",
    "verb_ing2 = input(\"enter your verb ending in 'ing'\")\n",
    "adjective2 = input(\"enter your adjective2\")\n",
    "job = input(\"enter your job\")\n",
    "candy = input(\"enter your type of candy\")\n",
    "adjective3 = input(\"enter your adjective3\")\n",
    "adjective4 = input(\"enter your adjective4\")\n",
    "\n",
    "mad_lib_f_print = f\"\"\"\n",
    "On Halloween, you get to go trick-or-treating! \n",
    "\\nEveryone will dress up in costumes, like a/an {noun1} or a/an {noun2}. \n",
    "\\nThis year, you decided to dress up as a/an {adjective1} {noun3}.\n",
    "\\nYour mom takes you and your best friend trick-or-treating. \n",
    "While you are out, your dad stays at home and {verb}. \n",
    "\\nOther fun things to do on Halloween are {verb_ing1} scary movies and {verb_ing2}.\n",
    "\\nThis year, you get lots of {adjective2} candy! \n",
    "\\nWhen you get home, your dad says he wants some, because he works hard as a {job} and he deserves some of your {candy}. \n",
    " \\nYou are {adjective3} but you give it to him anyway. \n",
    " \\nDads are so {adjective4} but you love him\n",
    " \"\"\"\n",
    " \n",
    "print(mad_lib_f_print)"
   ]
  },
  {
   "cell_type": "code",
   "execution_count": null,
   "metadata": {},
   "outputs": [],
   "source": []
  }
 ],
 "metadata": {
  "kernelspec": {
   "display_name": "Python 3.10.7 64-bit",
   "language": "python",
   "name": "python3"
  },
  "language_info": {
   "codemirror_mode": {
    "name": "ipython",
    "version": 3
   },
   "file_extension": ".py",
   "mimetype": "text/x-python",
   "name": "python",
   "nbconvert_exporter": "python",
   "pygments_lexer": "ipython3",
   "version": "3.10.7"
  },
  "orig_nbformat": 4,
  "vscode": {
   "interpreter": {
    "hash": "a7dbb88c84ecda04e2dfa8176cb6708abf8c95c32934f510df16d1a1f4945387"
   }
  }
 },
 "nbformat": 4,
 "nbformat_minor": 2
}
