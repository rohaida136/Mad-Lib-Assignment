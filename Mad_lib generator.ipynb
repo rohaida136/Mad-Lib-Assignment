{
 "cells": [
  {
   "cell_type": "code",
   "execution_count": 8,
   "metadata": {},
   "outputs": [
    {
     "name": "stdout",
     "output_type": "stream",
     "text": [
      "On Halloween, you get to go trick-or-treating! Everyone will dress up in costumes, like a/an q or a/an w. \n",
      "This year, you decided to dress up as a/an er. \n",
      "Your mom takes you and your best friend trick-or-treating. While you are out, your dad stays at home and t. \n",
      "Other fun things to do on Halloween are y scary movies and u. \n",
      "This year, you get lots of i candy! \n",
      "When you get home, your dad says he wants some, because he works hard as a o and he deserves some of your p. \n",
      "You are a but you give it to him anyway. \n",
      "Dads are so s but you love him\n"
     ]
    }
   ],
   "source": [
    "#Week1 assignment no3 \n",
    "#mad_libs generator \n",
    "\n",
    "noun1 = input(\"enter your noun1\")\n",
    "noun2 = input(\"enter your noun2\")\n",
    "adjective1 = input(\"enter your adjective1\")\n",
    "noun3 = input(\"enter your noun3\")\n",
    "verb = input(\"enter your verb\")\n",
    "verb_ing1 = input(\"enter your verb ending in 'ing'\")\n",
    "verb_ing2 = input(\"enter your verb ending in 'ing'\")\n",
    "adjective2 = input(\"enter your adjective2\")\n",
    "job = input(\"enter your job\")\n",
    "candy = input(\"enter your type of candy\")\n",
    "adjective3 = input(\"enter your adjective3\")\n",
    "adjective4 = input(\"enter your adjective4\")\n",
    "\n",
    "mad_lib = (\"On Halloween, you get to go trick-or-treating! Everyone will dress up in costumes, like a/an \" + noun1 +\n",
    " \" or a/an \" + noun2 + \". \\nThis year, you decided to dress up as a/an \" + adjective1  + noun3 + \n",
    " \". \\nYour mom takes you and your best friend trick-or-treating. While you are out, your dad stays at home and \" \n",
    " + verb + \". \\nOther fun things to do on Halloween are \" + verb_ing1 + \" scary movies and \" + verb_ing2 + \n",
    " \". \\nThis year, you get lots of \" + adjective2 + \n",
    " \" candy! \\nWhen you get home, your dad says he wants some, because he works hard as a \" + job + \n",
    " \" and he deserves some of your \" + candy + \n",
    " \". \\nYou are \" + adjective3 + \" but you give it to him anyway. \\nDads are so \" + adjective4 +\n",
    "\" but you love him\")\n",
    "\n",
    "print(mad_lib)\n"
   ]
  },
  {
   "cell_type": "code",
   "execution_count": null,
   "metadata": {},
   "outputs": [],
   "source": []
  }
 ],
 "metadata": {
  "kernelspec": {
   "display_name": "Python 3.10.7 64-bit (microsoft store)",
   "language": "python",
   "name": "python3"
  },
  "language_info": {
   "codemirror_mode": {
    "name": "ipython",
    "version": 3
   },
   "file_extension": ".py",
   "mimetype": "text/x-python",
   "name": "python",
   "nbconvert_exporter": "python",
   "pygments_lexer": "ipython3",
   "version": "3.10.7"
  },
  "orig_nbformat": 4,
  "vscode": {
   "interpreter": {
    "hash": "ff6fcb6018863fa2e8255b2b082ca9df93967c3f6696c823ccd1480f9cdb5aae"
   }
  }
 },
 "nbformat": 4,
 "nbformat_minor": 2
}
